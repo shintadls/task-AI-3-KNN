{
 "cells": [
  {
   "cell_type": "markdown",
   "metadata": {},
   "source": [
    "Read Data"
   ]
  },
  {
   "cell_type": "code",
   "execution_count": 46,
   "metadata": {},
   "outputs": [],
   "source": [
    "import pandas as pd\n",
    "import numpy as np\n",
    "from statistics import mode\n",
    "import math\n",
    "from openpyxl import load_workbook\n",
    "import time\n",
    "\n",
    "def read_excel(path, sheet_target): # read excel data\n",
    "    global category\n",
    "    data = pd.read_excel(path, sheet_name=sheet_target)\n",
    "    return pd.DataFrame(data)\n",
    "\n",
    "def reScale(data, method):\n",
    "    global category\n",
    "    if(method == 'std'):\n",
    "        for i in category:\n",
    "            data[i] = (data[i] - data[i].mean()) / data[i].std()\n",
    "    elif(method == 'norm'):\n",
    "        for i in category:\n",
    "            data[i] = (data[i] - data[i].min())/data[i].std()\n",
    "    \n",
    "    return data\n",
    "\n",
    "category = ['x1', 'x2', 'x3']\n",
    "data = read_excel('traintest.xlsx', 'train')"
   ]
  },
  {
   "cell_type": "markdown",
   "metadata": {},
   "source": [
    "Describing the data"
   ]
  },
  {
   "cell_type": "code",
   "execution_count": 47,
   "metadata": {},
   "outputs": [
    {
     "data": {
      "text/html": [
       "<div>\n",
       "<style scoped>\n",
       "    .dataframe tbody tr th:only-of-type {\n",
       "        vertical-align: middle;\n",
       "    }\n",
       "\n",
       "    .dataframe tbody tr th {\n",
       "        vertical-align: top;\n",
       "    }\n",
       "\n",
       "    .dataframe thead th {\n",
       "        text-align: right;\n",
       "    }\n",
       "</style>\n",
       "<table border=\"1\" class=\"dataframe\">\n",
       "  <thead>\n",
       "    <tr style=\"text-align: right;\">\n",
       "      <th></th>\n",
       "      <th>id</th>\n",
       "      <th>x1</th>\n",
       "      <th>x2</th>\n",
       "      <th>x3</th>\n",
       "      <th>y</th>\n",
       "    </tr>\n",
       "  </thead>\n",
       "  <tbody>\n",
       "    <tr>\n",
       "      <th>count</th>\n",
       "      <td>296.000000</td>\n",
       "      <td>296.000000</td>\n",
       "      <td>296.000000</td>\n",
       "      <td>296.000000</td>\n",
       "      <td>296.000000</td>\n",
       "    </tr>\n",
       "    <tr>\n",
       "      <th>mean</th>\n",
       "      <td>148.500000</td>\n",
       "      <td>52.462838</td>\n",
       "      <td>62.881757</td>\n",
       "      <td>4.111486</td>\n",
       "      <td>0.736486</td>\n",
       "    </tr>\n",
       "    <tr>\n",
       "      <th>std</th>\n",
       "      <td>85.592056</td>\n",
       "      <td>10.896367</td>\n",
       "      <td>3.233753</td>\n",
       "      <td>7.291816</td>\n",
       "      <td>0.441285</td>\n",
       "    </tr>\n",
       "    <tr>\n",
       "      <th>min</th>\n",
       "      <td>1.000000</td>\n",
       "      <td>30.000000</td>\n",
       "      <td>58.000000</td>\n",
       "      <td>0.000000</td>\n",
       "      <td>0.000000</td>\n",
       "    </tr>\n",
       "    <tr>\n",
       "      <th>25%</th>\n",
       "      <td>74.750000</td>\n",
       "      <td>44.000000</td>\n",
       "      <td>60.000000</td>\n",
       "      <td>0.000000</td>\n",
       "      <td>0.000000</td>\n",
       "    </tr>\n",
       "    <tr>\n",
       "      <th>50%</th>\n",
       "      <td>148.500000</td>\n",
       "      <td>52.000000</td>\n",
       "      <td>63.000000</td>\n",
       "      <td>1.000000</td>\n",
       "      <td>1.000000</td>\n",
       "    </tr>\n",
       "    <tr>\n",
       "      <th>75%</th>\n",
       "      <td>222.250000</td>\n",
       "      <td>61.000000</td>\n",
       "      <td>65.250000</td>\n",
       "      <td>5.000000</td>\n",
       "      <td>1.000000</td>\n",
       "    </tr>\n",
       "    <tr>\n",
       "      <th>max</th>\n",
       "      <td>296.000000</td>\n",
       "      <td>83.000000</td>\n",
       "      <td>69.000000</td>\n",
       "      <td>52.000000</td>\n",
       "      <td>1.000000</td>\n",
       "    </tr>\n",
       "  </tbody>\n",
       "</table>\n",
       "</div>"
      ],
      "text/plain": [
       "               id          x1          x2          x3           y\n",
       "count  296.000000  296.000000  296.000000  296.000000  296.000000\n",
       "mean   148.500000   52.462838   62.881757    4.111486    0.736486\n",
       "std     85.592056   10.896367    3.233753    7.291816    0.441285\n",
       "min      1.000000   30.000000   58.000000    0.000000    0.000000\n",
       "25%     74.750000   44.000000   60.000000    0.000000    0.000000\n",
       "50%    148.500000   52.000000   63.000000    1.000000    1.000000\n",
       "75%    222.250000   61.000000   65.250000    5.000000    1.000000\n",
       "max    296.000000   83.000000   69.000000   52.000000    1.000000"
      ]
     },
     "execution_count": 47,
     "metadata": {},
     "output_type": "execute_result"
    }
   ],
   "source": [
    "data.describe()"
   ]
  },
  {
   "cell_type": "code",
   "execution_count": 48,
   "metadata": {},
   "outputs": [
    {
     "data": {
      "text/plain": [
       "1    218\n",
       "0     78\n",
       "Name: y, dtype: int64"
      ]
     },
     "execution_count": 48,
     "metadata": {},
     "output_type": "execute_result"
    }
   ],
   "source": [
    "data['y'].value_counts()"
   ]
  },
  {
   "cell_type": "markdown",
   "metadata": {},
   "source": [
    "We use standardization to make our algorithm easier to find the neighbor"
   ]
  },
  {
   "cell_type": "code",
   "execution_count": 49,
   "metadata": {},
   "outputs": [
    {
     "data": {
      "text/html": [
       "<div>\n",
       "<style scoped>\n",
       "    .dataframe tbody tr th:only-of-type {\n",
       "        vertical-align: middle;\n",
       "    }\n",
       "\n",
       "    .dataframe tbody tr th {\n",
       "        vertical-align: top;\n",
       "    }\n",
       "\n",
       "    .dataframe thead th {\n",
       "        text-align: right;\n",
       "    }\n",
       "</style>\n",
       "<table border=\"1\" class=\"dataframe\">\n",
       "  <thead>\n",
       "    <tr style=\"text-align: right;\">\n",
       "      <th></th>\n",
       "      <th>id</th>\n",
       "      <th>x1</th>\n",
       "      <th>x2</th>\n",
       "      <th>x3</th>\n",
       "      <th>y</th>\n",
       "    </tr>\n",
       "  </thead>\n",
       "  <tbody>\n",
       "    <tr>\n",
       "      <th>0</th>\n",
       "      <td>1</td>\n",
       "      <td>0.691713</td>\n",
       "      <td>0.345804</td>\n",
       "      <td>-0.563849</td>\n",
       "      <td>1</td>\n",
       "    </tr>\n",
       "    <tr>\n",
       "      <th>1</th>\n",
       "      <td>2</td>\n",
       "      <td>0.141071</td>\n",
       "      <td>-0.891149</td>\n",
       "      <td>0.944691</td>\n",
       "      <td>0</td>\n",
       "    </tr>\n",
       "    <tr>\n",
       "      <th>2</th>\n",
       "      <td>3</td>\n",
       "      <td>1.150582</td>\n",
       "      <td>-0.272673</td>\n",
       "      <td>2.453232</td>\n",
       "      <td>0</td>\n",
       "    </tr>\n",
       "    <tr>\n",
       "      <th>3</th>\n",
       "      <td>4</td>\n",
       "      <td>-1.694403</td>\n",
       "      <td>-0.891149</td>\n",
       "      <td>-0.563849</td>\n",
       "      <td>1</td>\n",
       "    </tr>\n",
       "    <tr>\n",
       "      <th>4</th>\n",
       "      <td>5</td>\n",
       "      <td>-1.327308</td>\n",
       "      <td>1.891995</td>\n",
       "      <td>2.316092</td>\n",
       "      <td>0</td>\n",
       "    </tr>\n",
       "    <tr>\n",
       "      <th>...</th>\n",
       "      <td>...</td>\n",
       "      <td>...</td>\n",
       "      <td>...</td>\n",
       "      <td>...</td>\n",
       "      <td>...</td>\n",
       "    </tr>\n",
       "    <tr>\n",
       "      <th>291</th>\n",
       "      <td>292</td>\n",
       "      <td>0.599940</td>\n",
       "      <td>0.345804</td>\n",
       "      <td>-0.426709</td>\n",
       "      <td>1</td>\n",
       "    </tr>\n",
       "    <tr>\n",
       "      <th>292</th>\n",
       "      <td>293</td>\n",
       "      <td>1.150582</td>\n",
       "      <td>1.273518</td>\n",
       "      <td>-0.563849</td>\n",
       "      <td>1</td>\n",
       "    </tr>\n",
       "    <tr>\n",
       "      <th>293</th>\n",
       "      <td>294</td>\n",
       "      <td>0.049297</td>\n",
       "      <td>0.655042</td>\n",
       "      <td>1.081831</td>\n",
       "      <td>0</td>\n",
       "    </tr>\n",
       "    <tr>\n",
       "      <th>294</th>\n",
       "      <td>295</td>\n",
       "      <td>0.416392</td>\n",
       "      <td>0.345804</td>\n",
       "      <td>-0.426709</td>\n",
       "      <td>0</td>\n",
       "    </tr>\n",
       "    <tr>\n",
       "      <th>295</th>\n",
       "      <td>296</td>\n",
       "      <td>0.141071</td>\n",
       "      <td>-1.200388</td>\n",
       "      <td>0.396131</td>\n",
       "      <td>1</td>\n",
       "    </tr>\n",
       "  </tbody>\n",
       "</table>\n",
       "<p>296 rows × 5 columns</p>\n",
       "</div>"
      ],
      "text/plain": [
       "      id        x1        x2        x3  y\n",
       "0      1  0.691713  0.345804 -0.563849  1\n",
       "1      2  0.141071 -0.891149  0.944691  0\n",
       "2      3  1.150582 -0.272673  2.453232  0\n",
       "3      4 -1.694403 -0.891149 -0.563849  1\n",
       "4      5 -1.327308  1.891995  2.316092  0\n",
       "..   ...       ...       ...       ... ..\n",
       "291  292  0.599940  0.345804 -0.426709  1\n",
       "292  293  1.150582  1.273518 -0.563849  1\n",
       "293  294  0.049297  0.655042  1.081831  0\n",
       "294  295  0.416392  0.345804 -0.426709  0\n",
       "295  296  0.141071 -1.200388  0.396131  1\n",
       "\n",
       "[296 rows x 5 columns]"
      ]
     },
     "execution_count": 49,
     "metadata": {},
     "output_type": "execute_result"
    }
   ],
   "source": [
    "reScaled = reScale(data, 'std')\n",
    "reScaled"
   ]
  },
  {
   "cell_type": "markdown",
   "metadata": {},
   "source": [
    "Data describing after we do standardization scaling"
   ]
  },
  {
   "cell_type": "markdown",
   "metadata": {},
   "source": [
    "Cross-Validation based on index"
   ]
  },
  {
   "cell_type": "code",
   "execution_count": 50,
   "metadata": {},
   "outputs": [],
   "source": [
    "def cross_data(train_data, total):\n",
    "    fold = train_data.shape[0]//total\n",
    "    split_loc = []\n",
    "    a = 0\n",
    "    b = fold-1\n",
    "    for i in range(total):\n",
    "        split_loc.append([a,b])\n",
    "        a += fold\n",
    "        b += fold\n",
    "    return split_loc, fold"
   ]
  },
  {
   "cell_type": "markdown",
   "metadata": {},
   "source": [
    "Find distance with Euclidean"
   ]
  },
  {
   "cell_type": "code",
   "execution_count": 51,
   "metadata": {},
   "outputs": [],
   "source": [
    "def euclidean(X_train, X_test, i, j):\n",
    "    #a = np.array([X_train['x1'][j], X_train['x2'][j]])\n",
    "    #b = np.array([X_test['x1'][i], X_test['x2'][i]])\n",
    "    a = np.array([X_train['x1'][j], X_train['x2'][j],X_train['x3'][j]])\n",
    "    b = np.array([X_test['x1'][i], X_test['x2'][i],X_test['x3'][i]])\n",
    "    eu_dist = np.linalg.norm(b-a)\n",
    "    return eu_dist"
   ]
  },
  {
   "cell_type": "markdown",
   "metadata": {},
   "source": [
    "Find distance with Manhattan"
   ]
  },
  {
   "cell_type": "code",
   "execution_count": 52,
   "metadata": {},
   "outputs": [],
   "source": [
    "def manhattanDist(X_train, X_test, i, j):\n",
    "    a = np.array([X_train['x1'][j], X_train['x2'][j],X_train['x3'][j]])\n",
    "    b = np.array([X_test['x1'][i], X_test['x2'][i],X_test['x3'][i]])\n",
    "    eu_dist = np.abs(a[:None]- b).sum(-1)\n",
    "    return abs(eu_dist)"
   ]
  },
  {
   "cell_type": "markdown",
   "metadata": {},
   "source": [
    "Find distance with Minkowski"
   ]
  },
  {
   "cell_type": "code",
   "execution_count": 53,
   "metadata": {},
   "outputs": [],
   "source": [
    "def minkowski(X_train, X_test, i, j, p = 3): # test or X_test\n",
    "    #a = np.array(X_test[category[0]][i],X_test[category[1]][i])\n",
    "    #b = np.array(X_train[category[0]][j],X_train[category[1]][j])\n",
    "    a = np.array([X_train['x1'][j], X_train['x2'][j],X_train['x3'][j]])\n",
    "    b = np.array([X_test['x1'][i], X_test['x2'][i],X_test['x3'][i]])\n",
    "\n",
    "    eu_dist = np.abs(a[:None]- b).sum(-1) ** p\n",
    "    return eu_dist ** (1/p)"
   ]
  },
  {
   "cell_type": "markdown",
   "metadata": {},
   "source": [
    "Find distance with Supremum"
   ]
  },
  {
   "cell_type": "code",
   "execution_count": 54,
   "metadata": {},
   "outputs": [],
   "source": [
    "def supremum(X_train, X_test, i, j): # test or X_test\n",
    "    train = np.array([X_train['x1'][j], X_train['x2'][j],X_train['x3'][j]])\n",
    "    test = np.array([X_test['x1'][i], X_test['x2'][i],X_test['x3'][i]])\n",
    "\n",
    "    return max([abs(train[l] - test[l]) for l in range(len(train))])"
   ]
  },
  {
   "cell_type": "markdown",
   "metadata": {},
   "source": [
    "Find the closest neighbor"
   ]
  },
  {
   "cell_type": "code",
   "execution_count": 55,
   "metadata": {},
   "outputs": [],
   "source": [
    "def closest_neighbor(train_data, validate_data,k, method, debug):\n",
    "    closest = []\n",
    "    for i in range(len(validate_data)):\n",
    "        temp = []\n",
    "        for j in range(len(train_data)):\n",
    "            if(method == 'eu'):\n",
    "                temp.append([train_data['id'][j], euclidean(train_data, validate_data, i, j)])\n",
    "            elif(method == 'manhat'):\n",
    "                temp.append([train_data['id'][j], manhattanDist(train_data, validate_data, i, j)])\n",
    "            elif(method == 'mink'):\n",
    "                temp.append([train_data['id'][j], minkowski(train_data, validate_data, i, j)])\n",
    "            elif(method == 'supre'):\n",
    "                temp.append([train_data['id'][j], supremum(train_data, validate_data, i, j)])\n",
    "        temp = sorted(temp, key=lambda l: l[1])[0:k]\n",
    "        closest.append({'vali_id': validate_data['id'][i], 'closest': list(map(lambda c : c[0], [c for c in temp]))})\n",
    "    if(debug):\n",
    "        print(closest)\n",
    "    return closest"
   ]
  },
  {
   "cell_type": "markdown",
   "metadata": {},
   "source": [
    "kNN algorithm"
   ]
  },
  {
   "cell_type": "code",
   "execution_count": 56,
   "metadata": {},
   "outputs": [],
   "source": [
    "def kNN(train_data, validate_data, k, method, debug, run_as):\n",
    "    neighbor = closest_neighbor(train_data, validate_data,k, method, debug)\n",
    "    prediction_arr = []\n",
    "    for i in range(len(validate_data)):\n",
    "        truth_value = []\n",
    "        for j in neighbor[i]['closest']:\n",
    "            truth_value.append(int(train_data.iloc[np.where(train_data['id'] == j)]['y']))\n",
    "        prediction_arr.append(mode(truth_value))\n",
    "    if(run_as == 'train'):\n",
    "        validate_data['prediction'] = prediction_arr\n",
    "    elif(run_as == 'predict'):\n",
    "        validate_data['y'] = prediction_arr\n",
    "        if(debug):\n",
    "            print(validate_data)\n",
    "\n",
    "    return validate_data\n",
    "            "
   ]
  },
  {
   "cell_type": "markdown",
   "metadata": {},
   "source": [
    "Confussion matrix to evaluate the model (k value)"
   ]
  },
  {
   "cell_type": "code",
   "execution_count": 57,
   "metadata": {},
   "outputs": [],
   "source": [
    "def confussion_matrix(trained):\n",
    "    tp, fp, fn, tn = 0,0,0,0\n",
    "    for i in range(trained.shape[0]):\n",
    "        if((trained['y'][i] == 1) and (trained['prediction'][i] == 1)): tp += 1\n",
    "        elif((trained['y'][i] == 0) and (trained['prediction'][i] == 1)): fp += 1\n",
    "        elif((trained['y'][i] == 1) and (trained['prediction'][i] == 0)): fn += 1\n",
    "        elif((trained['y'][i] == 0) and (trained['prediction'][i] == 0)): tn += 1\n",
    "    \n",
    "    l = 10**(-10)\n",
    "    acc =  ((tp+tn)/(tp+fp+tn+fn+l))*100\n",
    "    prec = (tp/(tp+fp+l))*100\n",
    "    spec = (tn/(tn+fp+l))*100\n",
    "    recc = (tp/(tp+fn+l))*100\n",
    "    f1 = 2*((prec*recc)/(prec+recc+l))\n",
    "    miss = fn / (fn + tp+l)\n",
    "    mathew = ((tp*tn) - (fp*fn)) / math.sqrt((tp+fp)*(tp+fn)*(tn+fp)*(tn+fn)+l)\n",
    "    acc_ball = (recc+spec)/2\n",
    "    return {'Accuracy' : acc, 'Precision' : prec, 'Specificity' : spec, 'Recall' : recc, 'F1 Score':f1, 'Miss Rate':miss, 'Accuracy Balance':acc_ball, 'Mathew Correlation': mathew,'Matrix':(tp,fp,fn,tn)}"
   ]
  },
  {
   "cell_type": "markdown",
   "metadata": {},
   "source": [
    "Training driver"
   ]
  },
  {
   "cell_type": "code",
   "execution_count": 58,
   "metadata": {},
   "outputs": [],
   "source": [
    "def training_model(data, method, debug, run_as, reScale_method, fold_total):\n",
    "    data = reScale(data, reScale_method)\n",
    "    training_conclusion = []\n",
    "    acc_array = []\n",
    "    split_loc, fold = cross_data(data, fold_total)\n",
    "    for i in split_loc:\n",
    "        acc_array = []\n",
    "        validate_data = data[i[0]:i[1]]\n",
    "        train_data = data.drop(data.index[i[0]:i[1]])\n",
    "        for k in range(3, fold, 2):    \n",
    "            trained = kNN(train_data.reset_index(), validate_data.reset_index(), k, method, debug, run_as)\n",
    "            cof_matrix = confussion_matrix(trained)\n",
    "            acc_array.append([k, cof_matrix['Accuracy'],cof_matrix])\n",
    "        training_conclusion.append(acc_array)\n",
    "    return (training_conclusion, split_loc)"
   ]
  },
  {
   "cell_type": "markdown",
   "metadata": {},
   "source": [
    "Find the most optimal k"
   ]
  },
  {
   "cell_type": "markdown",
   "metadata": {},
   "source": [
    "> based on k alone (not used)"
   ]
  },
  {
   "cell_type": "code",
   "execution_count": 59,
   "metadata": {},
   "outputs": [],
   "source": [
    "def k_optimal(model_conclusion, split_index):\n",
    "    optimal_k = []\n",
    "    for i in range(len(model_conclusion)):\n",
    "        optimal_k.append(max(model_conclusion[i], key=lambda l: l[1])[0])\n",
    "\n",
    "    modus = mode(optimal_k)\n",
    "    acc =  0\n",
    "    prec = 0\n",
    "    spec = 0\n",
    "    recc = 0\n",
    "    f1 = 0\n",
    "    miss = 0\n",
    "    mathew = 0\n",
    "    acc_ball = 0\n",
    "    tp, fp, fn, tn = 0,0,0,0\n",
    "    n = 0\n",
    "    for i in model_conclusion:\n",
    "        for j in i:\n",
    "            if(j[0] == modus):\n",
    "                acc += j[2]['Accuracy']\n",
    "                prec += j[2]['Precision']\n",
    "                spec += j[2]['Specificity']\n",
    "                recc += j[2]['Recall']\n",
    "                f1 += j[2]['F1 Score']\n",
    "                miss += j[2]['Miss Rate']\n",
    "                mathew += j[2]['Mathew Correlation']\n",
    "                acc_ball += j[2]['Accuracy Balance']\n",
    "                tp += j[2]['Matrix'][0]\n",
    "                fp += j[2]['Matrix'][1]\n",
    "                fn += j[2]['Matrix'][2]\n",
    "                tn += j[2]['Matrix'][3]\n",
    "                n += 1\n",
    "    \n",
    "    model_report = {'Accuracy' : acc/n, 'Precision' : prec/n, 'Specificity' : spec/n, 'Recall' : recc/n, 'F1 Score':f1/n, 'Miss Rate':miss/n, 'Accuracy Balance':acc_ball/n, 'Mathew Correlation': mathew/n,'Matrix':(tp/n,fp/n,fn/n,tn/n)}\n",
    "    best_index = [0,0]\n",
    "    for x in range(len(model_conclusion)):\n",
    "        for y in range(len(model_conclusion[x])):\n",
    "            if((model_conclusion[x][y][0] == modus) and (model_conclusion[x][y][1] > model_conclusion[best_index[0]][best_index[1]][1])):\n",
    "                best_index = [x,y]\n",
    "\n",
    "    return modus, model_report, split_index[best_index[0]]"
   ]
  },
  {
   "cell_type": "markdown",
   "metadata": {},
   "source": [
    "> based on the model and its k"
   ]
  },
  {
   "cell_type": "code",
   "execution_count": 60,
   "metadata": {},
   "outputs": [],
   "source": [
    "def model_optimal(model_conclusion, split_index):\n",
    "    c = []\n",
    "    for j in range(len(split_index)):\n",
    "        a = max(model_conclusion[j], key=lambda l: l[1])[0]\n",
    "        loc = [i for i, t in enumerate(model_conclusion[j]) if t[0]==a]\n",
    "        c.append([j,loc[0]])\n",
    "    \n",
    "    high_index = c[0]\n",
    "    for x in c:\n",
    "        if(model_conclusion[x[0]][x[1]][1] >= model_conclusion[high_index[0]][high_index[1]][1]):\n",
    "            high_index = x\n",
    "\n",
    "    return (split_index[high_index[0]], model_conclusion[high_index[0]][high_index[1]][0], model_conclusion[high_index[0]][high_index[1]][2])"
   ]
  },
  {
   "cell_type": "markdown",
   "metadata": {},
   "source": [
    "Predict the 'test' dataset"
   ]
  },
  {
   "cell_type": "code",
   "execution_count": 61,
   "metadata": {},
   "outputs": [],
   "source": [
    "def test_prediction(data, test_data, k_value, method, debug, run_as, reScale_method, model_index ,via):\n",
    "    data = reScale(data, reScale_method)\n",
    "    data = data.drop(data.index[model_index[0]:model_index[1]])\n",
    "    data = data.reset_index()\n",
    "    print(data.shape[0])\n",
    "    test_data = reScale(test_data, reScale_method)\n",
    "    prediction = kNN(data, test_data, k_value, method, debug, run_as)\n",
    "    return prediction"
   ]
  },
  {
   "cell_type": "code",
   "execution_count": 62,
   "metadata": {},
   "outputs": [],
   "source": [
    "def model_report(knn_method, optimal_k, reScale_method, fold_total, end_time, start_time, model_grade, model_index, via):\n",
    "    txt = 'Best'\n",
    "    if(via == 'k_only'):\n",
    "        txt = 'Average'\n",
    "    print(f'<Model configuration>\\nAlgorithm : KNN\\nDistance Method : {knn_method}\\n{txt} K Value : {optimal_k}\\nScaling Method : {reScale_method}\\nK-Fold Cross-Validation : {fold_total} folds')\n",
    "    print(f\"Model Optimizer : {via}\\nBest Fold Index : {model_index}\\nTraining Time : {end_time-start_time}s\")\n",
    "    print(\"Model Quality :\")\n",
    "    for i in model_grade:\n",
    "        if(i == 'Matrix'):\n",
    "            print('<-> Confussion Matrix')\n",
    "            print(f'    {model_grade[i][0]}\\t{model_grade[i][1]}')\n",
    "            print(f'    {model_grade[i][2]}\\t{model_grade[i][3]}')\n",
    "        else:\n",
    "            print(f'<-> {i} {txt} : {model_grade[i]}')"
   ]
  },
  {
   "cell_type": "markdown",
   "metadata": {},
   "source": [
    "Run the model training"
   ]
  },
  {
   "cell_type": "code",
   "execution_count": 63,
   "metadata": {},
   "outputs": [],
   "source": [
    "data = read_excel('traintest.xlsx', 'train') \n",
    "reScale_method = 'std' \n",
    "fold_total = 9\n",
    "knn_method = 'eu' # eu supre manhat mink\n",
    "start_time = time.time()\n",
    "model_conclusion, split_index = training_model(data, knn_method, False, 'train', reScale_method, fold_total)        "
   ]
  },
  {
   "cell_type": "code",
   "execution_count": 64,
   "metadata": {},
   "outputs": [
    {
     "name": "stdout",
     "output_type": "stream",
     "text": [
      "<<Showing model candidate>>\n",
      "\n",
      "<Model 1>\n",
      "Folding Index : [0, 31]\n",
      " [3, 77.41935483845994, {'Accuracy': 77.41935483845994, 'Precision': 82.60869565181476, 'Specificity': 55.55555555493827, 'Recall': 86.36363636324381, 'F1 Score': 84.44444444401918, 'Miss Rate': 0.13636363636301654, 'Accuracy Balance': 70.95959595909105, 'Mathew Correlation': 0.434847107644502, 'Matrix': (19, 4, 3, 5)}]\n",
      " [5, 70.96774193525495, {'Accuracy': 70.96774193525495, 'Precision': 78.26086956487714, 'Specificity': 44.444444443950616, 'Recall': 81.81818181780991, 'F1 Score': 79.99999999959448, 'Miss Rate': 0.18181818181735537, 'Accuracy Balance': 63.131313130880265, 'Mathew Correlation': 0.27243433250016996, 'Matrix': (18, 5, 4, 4)}]\n",
      " [7, 67.74193548365245, {'Accuracy': 67.74193548365245, 'Precision': 73.07692307664202, 'Specificity': 22.222222221975308, 'Recall': 86.36363636324381, 'F1 Score': 79.16666666628717, 'Miss Rate': 0.13636363636301654, 'Accuracy Balance': 54.29292929260956, 'Mathew Correlation': 0.10596065886762494, 'Matrix': (19, 7, 3, 2)}]\n",
      " [9, 70.96774193525495, {'Accuracy': 70.96774193525495, 'Precision': 75.99999999969602, 'Specificity': 33.33333333296296, 'Recall': 86.36363636324381, 'F1 Score': 80.85106382939341, 'Miss Rate': 0.13636363636301654, 'Accuracy Balance': 59.84848484810338, 'Mathew Correlation': 0.22630095274240683, 'Matrix': (19, 6, 3, 3)}]\n",
      " [11, 70.96774193525495, {'Accuracy': 70.96774193525495, 'Precision': 75.99999999969602, 'Specificity': 33.33333333296296, 'Recall': 86.36363636324381, 'F1 Score': 80.85106382939341, 'Miss Rate': 0.13636363636301654, 'Accuracy Balance': 59.84848484810338, 'Mathew Correlation': 0.22630095274240683, 'Matrix': (19, 6, 3, 3)}]\n",
      " [13, 67.74193548365245, {'Accuracy': 67.74193548365245, 'Precision': 73.07692307664202, 'Specificity': 22.222222221975308, 'Recall': 86.36363636324381, 'F1 Score': 79.16666666628717, 'Miss Rate': 0.13636363636301654, 'Accuracy Balance': 54.29292929260956, 'Mathew Correlation': 0.10596065886762494, 'Matrix': (19, 7, 3, 2)}]\n",
      " [15, 70.96774193525495, {'Accuracy': 70.96774193525495, 'Precision': 75.99999999969602, 'Specificity': 33.33333333296296, 'Recall': 86.36363636324381, 'F1 Score': 80.85106382939341, 'Miss Rate': 0.13636363636301654, 'Accuracy Balance': 59.84848484810338, 'Mathew Correlation': 0.22630095274240683, 'Matrix': (19, 6, 3, 3)}]\n",
      " [17, 70.96774193525495, {'Accuracy': 70.96774193525495, 'Precision': 75.99999999969602, 'Specificity': 33.33333333296296, 'Recall': 86.36363636324381, 'F1 Score': 80.85106382939341, 'Miss Rate': 0.13636363636301654, 'Accuracy Balance': 59.84848484810338, 'Mathew Correlation': 0.22630095274240683, 'Matrix': (19, 6, 3, 3)}]\n",
      " [19, 74.19354838685744, {'Accuracy': 74.19354838685744, 'Precision': 79.16666666633681, 'Specificity': 44.444444443950616, 'Recall': 86.36363636324381, 'F1 Score': 82.60869565176485, 'Miss Rate': 0.13636363636301654, 'Accuracy Balance': 65.40404040359721, 'Mathew Correlation': 0.3344587782712154, 'Matrix': (19, 5, 3, 4)}]\n",
      " [21, 77.41935483845994, {'Accuracy': 77.41935483845994, 'Precision': 79.99999999968, 'Specificity': 44.444444443950616, 'Recall': 90.9090909086777, 'F1 Score': 85.10638297831146, 'Miss Rate': 0.09090909090867769, 'Accuracy Balance': 67.67676767631416, 'Mathew Correlation': 0.40618119722996093, 'Matrix': (20, 5, 2, 4)}]\n",
      " [23, 74.19354838685744, {'Accuracy': 74.19354838685744, 'Precision': 76.92307692278108, 'Specificity': 33.33333333296296, 'Recall': 90.9090909086777, 'F1 Score': 83.33333333293648, 'Miss Rate': 0.09090909090867769, 'Accuracy Balance': 62.12121212082033, 'Mathew Correlation': 0.29918303680270575, 'Matrix': (20, 6, 2, 3)}]\n",
      " [25, 77.41935483845994, {'Accuracy': 77.41935483845994, 'Precision': 79.99999999968, 'Specificity': 44.444444443950616, 'Recall': 90.9090909086777, 'F1 Score': 85.10638297831146, 'Miss Rate': 0.09090909090867769, 'Accuracy Balance': 67.67676767631416, 'Mathew Correlation': 0.40618119722996093, 'Matrix': (20, 5, 2, 4)}]\n",
      " [27, 77.41935483845994, {'Accuracy': 77.41935483845994, 'Precision': 77.77777777748972, 'Specificity': 33.33333333296296, 'Recall': 95.45454545411158, 'F1 Score': 85.7142857138864, 'Miss Rate': 0.04545454545433884, 'Accuracy Balance': 64.39393939353727, 'Mathew Correlation': 0.38978972143455276, 'Matrix': (21, 6, 1, 3)}]\n",
      " [29, 80.64516129006243, {'Accuracy': 80.64516129006243, 'Precision': 78.57142857114796, 'Specificity': 33.33333333296296, 'Recall': 99.99999999954547, 'F1 Score': 87.99999999959874, 'Miss Rate': 0.0, 'Accuracy Balance': 66.66666666625422, 'Mathew Correlation': 0.5117663157191574, 'Matrix': (22, 6, 0, 3)}]\n",
      " [31, 87.09677419326744, {'Accuracy': 87.09677419326744, 'Precision': 84.61538461505917, 'Specificity': 55.55555555493827, 'Recall': 99.99999999954547, 'F1 Score': 91.66666666623509, 'Miss Rate': 0.0, 'Accuracy Balance': 77.77777777724187, 'Mathew Correlation': 0.6856277926728673, 'Matrix': (22, 4, 0, 5)}]\n",
      "\n",
      "<Model 2>\n",
      "Folding Index : [32, 63]\n",
      " [3, 70.96774193525495, {'Accuracy': 70.96774193525495, 'Precision': 76.92307692278108, 'Specificity': 24.9999999996875, 'Recall': 86.95652173875237, 'F1 Score': 81.63265306084149, 'Miss Rate': 0.13043478260812855, 'Accuracy Balance': 55.97826086921994, 'Mathew Correlation': 0.14224666503076444, 'Matrix': (20, 6, 3, 2)}]\n",
      " [5, 70.96774193525495, {'Accuracy': 70.96774193525495, 'Precision': 74.99999999973215, 'Specificity': 12.49999999984375, 'Recall': 91.30434782568999, 'F1 Score': 82.35294117609813, 'Miss Rate': 0.08695652173875237, 'Accuracy Balance': 51.90217391276687, 'Mathew Correlation': 0.05630532705768117, 'Matrix': (21, 7, 2, 1)}]\n",
      " [7, 70.96774193525495, {'Accuracy': 70.96774193525495, 'Precision': 76.92307692278108, 'Specificity': 24.9999999996875, 'Recall': 86.95652173875237, 'F1 Score': 81.63265306084149, 'Miss Rate': 0.13043478260812855, 'Accuracy Balance': 55.97826086921994, 'Mathew Correlation': 0.14224666503076444, 'Matrix': (20, 6, 3, 2)}]\n",
      " [9, 70.96774193525495, {'Accuracy': 70.96774193525495, 'Precision': 76.92307692278108, 'Specificity': 24.9999999996875, 'Recall': 86.95652173875237, 'F1 Score': 81.63265306084149, 'Miss Rate': 0.13043478260812855, 'Accuracy Balance': 55.97826086921994, 'Mathew Correlation': 0.14224666503076444, 'Matrix': (20, 6, 3, 2)}]\n",
      " [11, 74.19354838685744, {'Accuracy': 74.19354838685744, 'Precision': 77.77777777748972, 'Specificity': 24.9999999996875, 'Recall': 91.30434782568999, 'F1 Score': 83.99999999961435, 'Miss Rate': 0.08695652173875237, 'Accuracy Balance': 58.152173912688745, 'Mathew Correlation': 0.2128141326896866, 'Matrix': (21, 6, 2, 2)}]\n",
      " [13, 77.41935483845994, {'Accuracy': 77.41935483845994, 'Precision': 78.57142857114796, 'Specificity': 24.9999999996875, 'Recall': 95.6521739126276, 'F1 Score': 86.27450980353373, 'Miss Rate': 0.04347826086937619, 'Accuracy Balance': 60.32608695615755, 'Mathew Correlation': 0.30565748974169776, 'Matrix': (22, 6, 1, 2)}]\n",
      " [15, 80.64516129006243, {'Accuracy': 80.64516129006243, 'Precision': 81.48148148117971, 'Specificity': 37.499999999531255, 'Recall': 95.6521739126276, 'F1 Score': 87.99999999959834, 'Miss Rate': 0.04347826086937619, 'Accuracy Balance': 66.57608695607942, 'Mathew Correlation': 0.4327220698023628, 'Matrix': (22, 5, 1, 3)}]\n",
      " [17, 77.41935483845994, {'Accuracy': 77.41935483845994, 'Precision': 78.57142857114796, 'Specificity': 24.9999999996875, 'Recall': 95.6521739126276, 'F1 Score': 86.27450980353373, 'Miss Rate': 0.04347826086937619, 'Accuracy Balance': 60.32608695615755, 'Mathew Correlation': 0.30565748974169776, 'Matrix': (22, 6, 1, 2)}]\n",
      " [19, 77.41935483845994, {'Accuracy': 77.41935483845994, 'Precision': 80.76923076892012, 'Specificity': 37.499999999531255, 'Recall': 91.30434782568999, 'F1 Score': 85.71428571388606, 'Miss Rate': 0.08695652173875237, 'Accuracy Balance': 64.40217391261062, 'Mathew Correlation': 0.34268514757411433, 'Matrix': (21, 5, 2, 3)}]\n",
      " [21, 77.41935483845994, {'Accuracy': 77.41935483845994, 'Precision': 80.76923076892012, 'Specificity': 37.499999999531255, 'Recall': 91.30434782568999, 'F1 Score': 85.71428571388606, 'Miss Rate': 0.08695652173875237, 'Accuracy Balance': 64.40217391261062, 'Mathew Correlation': 0.34268514757411433, 'Matrix': (21, 5, 2, 3)}]\n",
      " [23, 77.41935483845994, {'Accuracy': 77.41935483845994, 'Precision': 80.76923076892012, 'Specificity': 37.499999999531255, 'Recall': 91.30434782568999, 'F1 Score': 85.71428571388606, 'Miss Rate': 0.08695652173875237, 'Accuracy Balance': 64.40217391261062, 'Mathew Correlation': 0.34268514757411433, 'Matrix': (21, 5, 2, 3)}]\n",
      " [25, 80.64516129006243, {'Accuracy': 80.64516129006243, 'Precision': 81.48148148117971, 'Specificity': 37.499999999531255, 'Recall': 95.6521739126276, 'F1 Score': 87.99999999959834, 'Miss Rate': 0.04347826086937619, 'Accuracy Balance': 66.57608695607942, 'Mathew Correlation': 0.4327220698023628, 'Matrix': (22, 5, 1, 3)}]\n",
      " [27, 80.64516129006243, {'Accuracy': 80.64516129006243, 'Precision': 81.48148148117971, 'Specificity': 37.499999999531255, 'Recall': 95.6521739126276, 'F1 Score': 87.99999999959834, 'Miss Rate': 0.04347826086937619, 'Accuracy Balance': 66.57608695607942, 'Mathew Correlation': 0.4327220698023628, 'Matrix': (22, 5, 1, 3)}]\n",
      " [29, 80.64516129006243, {'Accuracy': 80.64516129006243, 'Precision': 81.48148148117971, 'Specificity': 37.499999999531255, 'Recall': 95.6521739126276, 'F1 Score': 87.99999999959834, 'Miss Rate': 0.04347826086937619, 'Accuracy Balance': 66.57608695607942, 'Mathew Correlation': 0.4327220698023628, 'Matrix': (22, 5, 1, 3)}]\n",
      " [31, 80.64516129006243, {'Accuracy': 80.64516129006243, 'Precision': 81.48148148117971, 'Specificity': 37.499999999531255, 'Recall': 95.6521739126276, 'F1 Score': 87.99999999959834, 'Miss Rate': 0.04347826086937619, 'Accuracy Balance': 66.57608695607942, 'Mathew Correlation': 0.4327220698023628, 'Matrix': (22, 5, 1, 3)}]\n",
      "\n",
      "<Model 3>\n",
      "Folding Index : [64, 95]\n",
      " [3, 80.64516129006243, {'Accuracy': 80.64516129006243, 'Precision': 87.999999999648, 'Specificity': 49.99999999916667, 'Recall': 87.999999999648, 'F1 Score': 87.999999999598, 'Miss Rate': 0.11999999999952, 'Accuracy Balance': 68.99999999940734, 'Mathew Correlation': 0.3799999999999991, 'Matrix': (22, 3, 3, 3)}]\n",
      " [5, 80.64516129006243, {'Accuracy': 80.64516129006243, 'Precision': 82.7586206893698, 'Specificity': 16.66666666638889, 'Recall': 95.99999999961601, 'F1 Score': 88.88888888850997, 'Miss Rate': 0.039999999999840004, 'Accuracy Balance': 56.33333333300245, 'Mathew Correlation': 0.20370138161917983, 'Matrix': (24, 5, 1, 1)}]\n",
      " [7, 83.87096774166494, {'Accuracy': 83.87096774166494, 'Precision': 85.71428571397959, 'Specificity': 33.33333333277778, 'Recall': 95.99999999961601, 'F1 Score': 90.56603773545747, 'Miss Rate': 0.039999999999840004, 'Accuracy Balance': 64.66666666619689, 'Mathew Correlation': 0.39198315480488755, 'Matrix': (24, 4, 1, 2)}]\n",
      " [9, 87.09677419326744, {'Accuracy': 87.09677419326744, 'Precision': 86.20689655142688, 'Specificity': 33.33333333277778, 'Recall': 99.9999999996, 'F1 Score': 92.59259259219995, 'Miss Rate': 0.0, 'Accuracy Balance': 66.66666666618889, 'Mathew Correlation': 0.5360562674188943, 'Matrix': (25, 4, 0, 2)}]\n",
      " [11, 90.32258064486993, {'Accuracy': 90.32258064486993, 'Precision': 89.28571428539541, 'Specificity': 49.99999999916667, 'Recall': 99.9999999996, 'F1 Score': 94.3396226411036, 'Miss Rate': 0.0, 'Accuracy Balance': 74.99999999938333, 'Mathew Correlation': 0.6681531047810583, 'Matrix': (25, 3, 0, 3)}]\n",
      " [13, 90.32258064486993, {'Accuracy': 90.32258064486993, 'Precision': 89.28571428539541, 'Specificity': 49.99999999916667, 'Recall': 99.9999999996, 'F1 Score': 94.3396226411036, 'Miss Rate': 0.0, 'Accuracy Balance': 74.99999999938333, 'Mathew Correlation': 0.6681531047810583, 'Matrix': (25, 3, 0, 3)}]\n",
      " [15, 87.09677419326744, {'Accuracy': 87.09677419326744, 'Precision': 86.20689655142688, 'Specificity': 33.33333333277778, 'Recall': 99.9999999996, 'F1 Score': 92.59259259219995, 'Miss Rate': 0.0, 'Accuracy Balance': 66.66666666618889, 'Mathew Correlation': 0.5360562674188943, 'Matrix': (25, 4, 0, 2)}]\n",
      " [17, 87.09677419326744, {'Accuracy': 87.09677419326744, 'Precision': 86.20689655142688, 'Specificity': 33.33333333277778, 'Recall': 99.9999999996, 'F1 Score': 92.59259259219995, 'Miss Rate': 0.0, 'Accuracy Balance': 66.66666666618889, 'Mathew Correlation': 0.5360562674188943, 'Matrix': (25, 4, 0, 2)}]\n",
      " [19, 83.87096774166494, {'Accuracy': 83.87096774166494, 'Precision': 83.33333333305556, 'Specificity': 16.66666666638889, 'Recall': 99.9999999996, 'F1 Score': 90.90909090871075, 'Miss Rate': 0.0, 'Accuracy Balance': 58.33333333299445, 'Mathew Correlation': 0.3726779962499608, 'Matrix': (25, 5, 0, 1)}]\n",
      " [21, 83.87096774166494, {'Accuracy': 83.87096774166494, 'Precision': 83.33333333305556, 'Specificity': 16.66666666638889, 'Recall': 99.9999999996, 'F1 Score': 90.90909090871075, 'Miss Rate': 0.0, 'Accuracy Balance': 58.33333333299445, 'Mathew Correlation': 0.3726779962499608, 'Matrix': (25, 5, 0, 1)}]\n",
      " [23, 87.09677419326744, {'Accuracy': 87.09677419326744, 'Precision': 86.20689655142688, 'Specificity': 33.33333333277778, 'Recall': 99.9999999996, 'F1 Score': 92.59259259219995, 'Miss Rate': 0.0, 'Accuracy Balance': 66.66666666618889, 'Mathew Correlation': 0.5360562674188943, 'Matrix': (25, 4, 0, 2)}]\n",
      " [25, 87.09677419326744, {'Accuracy': 87.09677419326744, 'Precision': 86.20689655142688, 'Specificity': 33.33333333277778, 'Recall': 99.9999999996, 'F1 Score': 92.59259259219995, 'Miss Rate': 0.0, 'Accuracy Balance': 66.66666666618889, 'Mathew Correlation': 0.5360562674188943, 'Matrix': (25, 4, 0, 2)}]\n",
      " [27, 87.09677419326744, {'Accuracy': 87.09677419326744, 'Precision': 86.20689655142688, 'Specificity': 33.33333333277778, 'Recall': 99.9999999996, 'F1 Score': 92.59259259219995, 'Miss Rate': 0.0, 'Accuracy Balance': 66.66666666618889, 'Mathew Correlation': 0.5360562674188943, 'Matrix': (25, 4, 0, 2)}]\n",
      " [29, 87.09677419326744, {'Accuracy': 87.09677419326744, 'Precision': 86.20689655142688, 'Specificity': 33.33333333277778, 'Recall': 99.9999999996, 'F1 Score': 92.59259259219995, 'Miss Rate': 0.0, 'Accuracy Balance': 66.66666666618889, 'Mathew Correlation': 0.5360562674188943, 'Matrix': (25, 4, 0, 2)}]\n",
      " [31, 90.32258064486993, {'Accuracy': 90.32258064486993, 'Precision': 89.28571428539541, 'Specificity': 49.99999999916667, 'Recall': 99.9999999996, 'F1 Score': 94.3396226411036, 'Miss Rate': 0.0, 'Accuracy Balance': 74.99999999938333, 'Mathew Correlation': 0.6681531047810583, 'Matrix': (25, 3, 0, 3)}]\n",
      "\n",
      "<Model 4>\n",
      "Folding Index : [96, 127]\n",
      " [3, 77.41935483845994, {'Accuracy': 77.41935483845994, 'Precision': 91.99999999963201, 'Specificity': 33.33333333222222, 'Recall': 82.14285714256378, 'F1 Score': 86.79245282981134, 'Miss Rate': 0.17857142857079084, 'Accuracy Balance': 57.738095237393, 'Mathew Correlation': 0.11581320482871678, 'Matrix': (23, 2, 5, 1)}]\n",
      " [5, 77.41935483845994, {'Accuracy': 77.41935483845994, 'Precision': 88.88888888855968, 'Specificity': 0.0, 'Recall': 85.71428571397959, 'F1 Score': 87.27272727235994, 'Miss Rate': 0.14285714285663267, 'Accuracy Balance': 42.857142856989796, 'Mathew Correlation': -0.12598815766974172, 'Matrix': (24, 3, 4, 0)}]\n",
      " [7, 83.87096774166494, {'Accuracy': 83.87096774166494, 'Precision': 89.65517241348395, 'Specificity': 0.0, 'Recall': 92.85714285681122, 'F1 Score': 91.22807017506852, 'Miss Rate': 0.07142857142831634, 'Accuracy Balance': 46.42857142840561, 'Mathew Correlation': -0.08596023825918703, 'Matrix': (26, 3, 2, 0)}]\n",
      " [9, 83.87096774166494, {'Accuracy': 83.87096774166494, 'Precision': 89.65517241348395, 'Specificity': 0.0, 'Recall': 92.85714285681122, 'F1 Score': 91.22807017506852, 'Miss Rate': 0.07142857142831634, 'Accuracy Balance': 46.42857142840561, 'Mathew Correlation': -0.08596023825918703, 'Matrix': (26, 3, 2, 0)}]\n",
      " [11, 83.87096774166494, {'Accuracy': 83.87096774166494, 'Precision': 89.65517241348395, 'Specificity': 0.0, 'Recall': 92.85714285681122, 'F1 Score': 91.22807017506852, 'Miss Rate': 0.07142857142831634, 'Accuracy Balance': 46.42857142840561, 'Mathew Correlation': -0.08596023825918703, 'Matrix': (26, 3, 2, 0)}]\n",
      " [13, 83.87096774166494, {'Accuracy': 83.87096774166494, 'Precision': 89.65517241348395, 'Specificity': 0.0, 'Recall': 92.85714285681122, 'F1 Score': 91.22807017506852, 'Miss Rate': 0.07142857142831634, 'Accuracy Balance': 46.42857142840561, 'Mathew Correlation': -0.08596023825918703, 'Matrix': (26, 3, 2, 0)}]\n",
      " [15, 83.87096774166494, {'Accuracy': 83.87096774166494, 'Precision': 89.65517241348395, 'Specificity': 0.0, 'Recall': 92.85714285681122, 'F1 Score': 91.22807017506852, 'Miss Rate': 0.07142857142831634, 'Accuracy Balance': 46.42857142840561, 'Mathew Correlation': -0.08596023825918703, 'Matrix': (26, 3, 2, 0)}]\n",
      " [17, 83.87096774166494, {'Accuracy': 83.87096774166494, 'Precision': 89.65517241348395, 'Specificity': 0.0, 'Recall': 92.85714285681122, 'F1 Score': 91.22807017506852, 'Miss Rate': 0.07142857142831634, 'Accuracy Balance': 46.42857142840561, 'Mathew Correlation': -0.08596023825918703, 'Matrix': (26, 3, 2, 0)}]\n",
      " [19, 83.87096774166494, {'Accuracy': 83.87096774166494, 'Precision': 89.65517241348395, 'Specificity': 0.0, 'Recall': 92.85714285681122, 'F1 Score': 91.22807017506852, 'Miss Rate': 0.07142857142831634, 'Accuracy Balance': 46.42857142840561, 'Mathew Correlation': -0.08596023825918703, 'Matrix': (26, 3, 2, 0)}]\n",
      " [21, 83.87096774166494, {'Accuracy': 83.87096774166494, 'Precision': 89.65517241348395, 'Specificity': 0.0, 'Recall': 92.85714285681122, 'F1 Score': 91.22807017506852, 'Miss Rate': 0.07142857142831634, 'Accuracy Balance': 46.42857142840561, 'Mathew Correlation': -0.08596023825918703, 'Matrix': (26, 3, 2, 0)}]\n",
      " [23, 83.87096774166494, {'Accuracy': 83.87096774166494, 'Precision': 89.65517241348395, 'Specificity': 0.0, 'Recall': 92.85714285681122, 'F1 Score': 91.22807017506852, 'Miss Rate': 0.07142857142831634, 'Accuracy Balance': 46.42857142840561, 'Mathew Correlation': -0.08596023825918703, 'Matrix': (26, 3, 2, 0)}]\n",
      " [25, 83.87096774166494, {'Accuracy': 83.87096774166494, 'Precision': 89.65517241348395, 'Specificity': 0.0, 'Recall': 92.85714285681122, 'F1 Score': 91.22807017506852, 'Miss Rate': 0.07142857142831634, 'Accuracy Balance': 46.42857142840561, 'Mathew Correlation': -0.08596023825918703, 'Matrix': (26, 3, 2, 0)}]\n",
      " [27, 83.87096774166494, {'Accuracy': 83.87096774166494, 'Precision': 89.65517241348395, 'Specificity': 0.0, 'Recall': 92.85714285681122, 'F1 Score': 91.22807017506852, 'Miss Rate': 0.07142857142831634, 'Accuracy Balance': 46.42857142840561, 'Mathew Correlation': -0.08596023825918703, 'Matrix': (26, 3, 2, 0)}]\n",
      " [29, 87.09677419326744, {'Accuracy': 87.09677419326744, 'Precision': 89.99999999970001, 'Specificity': 0.0, 'Recall': 96.42857142822704, 'F1 Score': 93.10344827549109, 'Miss Rate': 0.03571428571415817, 'Accuracy Balance': 48.21428571411352, 'Mathew Correlation': -0.059761430466718495, 'Matrix': (27, 3, 1, 0)}]\n",
      " [31, 87.09677419326744, {'Accuracy': 87.09677419326744, 'Precision': 89.99999999970001, 'Specificity': 0.0, 'Recall': 96.42857142822704, 'F1 Score': 93.10344827549109, 'Miss Rate': 0.03571428571415817, 'Accuracy Balance': 48.21428571411352, 'Mathew Correlation': -0.059761430466718495, 'Matrix': (27, 3, 1, 0)}]\n",
      "\n",
      "<Model 5>\n",
      "Folding Index : [128, 159]\n",
      " [3, 64.51612903204995, {'Accuracy': 64.51612903204995, 'Precision': 67.999999999728, 'Specificity': 27.27272727247934, 'Recall': 84.99999999957501, 'F1 Score': 75.55555555517039, 'Miss Rate': 0.14999999999925, 'Accuracy Balance': 56.13636363602718, 'Mathew Correlation': 0.14863010829205847, 'Matrix': (17, 8, 3, 3)}]\n",
      " [5, 70.96774193525495, {'Accuracy': 70.96774193525495, 'Precision': 73.91304347793951, 'Specificity': 45.45454545413223, 'Recall': 84.99999999957501, 'F1 Score': 79.06976744144295, 'Miss Rate': 0.14999999999925, 'Accuracy Balance': 65.22727272685361, 'Mathew Correlation': 0.3330079109791587, 'Matrix': (17, 6, 3, 5)}]\n",
      " [7, 70.96774193525495, {'Accuracy': 70.96774193525495, 'Precision': 71.999999999712, 'Specificity': 36.36363636330579, 'Recall': 89.99999999955001, 'F1 Score': 79.99999999959509, 'Miss Rate': 0.0999999999995, 'Accuracy Balance': 63.1818181814279, 'Mathew Correlation': 0.3192794918866441, 'Matrix': (18, 7, 2, 4)}]\n",
      " [9, 80.64516129006243, {'Accuracy': 80.64516129006243, 'Precision': 76.92307692278108, 'Specificity': 45.45454545413223, 'Recall': 99.9999999995, 'F1 Score': 86.95652173870322, 'Miss Rate': 0.0, 'Accuracy Balance': 72.72727272681612, 'Mathew Correlation': 0.5913123959890816, 'Matrix': (20, 6, 0, 5)}]\n",
      " [11, 74.19354838685744, {'Accuracy': 74.19354838685744, 'Precision': 77.27272727237604, 'Specificity': 54.54545454495868, 'Recall': 84.99999999957501, 'F1 Score': 80.9523809519456, 'Miss Rate': 0.14999999999925, 'Accuracy Balance': 69.77272727226685, 'Mathew Correlation': 0.4168456915676495, 'Matrix': (17, 5, 3, 6)}]\n",
      " [13, 70.96774193525495, {'Accuracy': 70.96774193525495, 'Precision': 71.999999999712, 'Specificity': 36.36363636330579, 'Recall': 89.99999999955001, 'F1 Score': 79.99999999959509, 'Miss Rate': 0.0999999999995, 'Accuracy Balance': 63.1818181814279, 'Mathew Correlation': 0.3192794918866441, 'Matrix': (18, 7, 2, 4)}]\n",
      " [15, 70.96774193525495, {'Accuracy': 70.96774193525495, 'Precision': 71.999999999712, 'Specificity': 36.36363636330579, 'Recall': 89.99999999955001, 'F1 Score': 79.99999999959509, 'Miss Rate': 0.0999999999995, 'Accuracy Balance': 63.1818181814279, 'Mathew Correlation': 0.3192794918866441, 'Matrix': (18, 7, 2, 4)}]\n",
      " [17, 77.41935483845994, {'Accuracy': 77.41935483845994, 'Precision': 75.99999999969602, 'Specificity': 45.45454545413223, 'Recall': 94.999999999525, 'F1 Score': 84.44444444401978, 'Miss Rate': 0.04999999999975, 'Accuracy Balance': 70.22727272682862, 'Mathew Correlation': 0.48992887548122976, 'Matrix': (19, 6, 1, 5)}]\n",
      " [19, 74.19354838685744, {'Accuracy': 74.19354838685744, 'Precision': 74.9999999996875, 'Specificity': 45.45454545413223, 'Recall': 89.99999999955001, 'F1 Score': 81.81818181776035, 'Miss Rate': 0.0999999999995, 'Accuracy Balance': 67.72727272684112, 'Mathew Correlation': 0.40572205955603297, 'Matrix': (18, 6, 2, 5)}]\n",
      " [21, 77.41935483845994, {'Accuracy': 77.41935483845994, 'Precision': 75.99999999969602, 'Specificity': 45.45454545413223, 'Recall': 94.999999999525, 'F1 Score': 84.44444444401978, 'Miss Rate': 0.04999999999975, 'Accuracy Balance': 70.22727272682862, 'Mathew Correlation': 0.48992887548122976, 'Matrix': (19, 6, 1, 5)}]\n",
      " [23, 74.19354838685744, {'Accuracy': 74.19354838685744, 'Precision': 73.07692307664202, 'Specificity': 36.36363636330579, 'Recall': 94.999999999525, 'F1 Score': 82.60869565176561, 'Miss Rate': 0.04999999999975, 'Accuracy Balance': 65.6818181814154, 'Mathew Correlation': 0.4080055532324663, 'Matrix': (19, 7, 1, 4)}]\n",
      " [25, 74.19354838685744, {'Accuracy': 74.19354838685744, 'Precision': 73.07692307664202, 'Specificity': 36.36363636330579, 'Recall': 94.999999999525, 'F1 Score': 82.60869565176561, 'Miss Rate': 0.04999999999975, 'Accuracy Balance': 65.6818181814154, 'Mathew Correlation': 0.4080055532324663, 'Matrix': (19, 7, 1, 4)}]\n",
      " [27, 70.96774193525495, {'Accuracy': 70.96774193525495, 'Precision': 70.37037037010975, 'Specificity': 27.27272727247934, 'Recall': 94.999999999525, 'F1 Score': 80.8510638293943, 'Miss Rate': 0.04999999999975, 'Accuracy Balance': 61.13636363600217, 'Mathew Correlation': 0.3178870688659545, 'Matrix': (19, 8, 1, 3)}]\n",
      " [29, 74.19354838685744, {'Accuracy': 74.19354838685744, 'Precision': 73.07692307664202, 'Specificity': 36.36363636330579, 'Recall': 94.999999999525, 'F1 Score': 82.60869565176561, 'Miss Rate': 0.04999999999975, 'Accuracy Balance': 65.6818181814154, 'Mathew Correlation': 0.4080055532324663, 'Matrix': (19, 7, 1, 4)}]\n",
      " [31, 74.19354838685744, {'Accuracy': 74.19354838685744, 'Precision': 73.07692307664202, 'Specificity': 36.36363636330579, 'Recall': 94.999999999525, 'F1 Score': 82.60869565176561, 'Miss Rate': 0.04999999999975, 'Accuracy Balance': 65.6818181814154, 'Mathew Correlation': 0.4080055532324663, 'Matrix': (19, 7, 1, 4)}]\n",
      "\n",
      "<Model 6>\n",
      "Folding Index : [160, 191]\n",
      " [3, 67.74193548365245, {'Accuracy': 67.74193548365245, 'Precision': 86.36363636324381, 'Specificity': 39.9999999992, 'Recall': 73.07692307664202, 'F1 Score': 79.16666666628717, 'Miss Rate': 0.26923076922973377, 'Accuracy Balance': 56.53846153792101, 'Mathew Correlation': 0.10596065886762494, 'Matrix': (19, 3, 7, 2)}]\n",
      " [5, 61.29032258044745, {'Accuracy': 61.29032258044745, 'Precision': 81.81818181780991, 'Specificity': 19.9999999996, 'Recall': 69.23076923050296, 'F1 Score': 74.99999999963785, 'Miss Rate': 0.30769230769112427, 'Accuracy Balance': 44.61538461505148, 'Mathew Correlation': -0.08726171906745583, 'Matrix': (18, 4, 8, 1)}]\n",
      " [7, 74.19354838685744, {'Accuracy': 74.19354838685744, 'Precision': 87.49999999963542, 'Specificity': 39.9999999992, 'Recall': 80.76923076892012, 'F1 Score': 83.9999999996141, 'Miss Rate': 0.1923076923069527, 'Accuracy Balance': 60.38461538406006, 'Mathew Correlation': 0.18269953716175838, 'Matrix': (21, 3, 5, 2)}]\n",
      " [9, 74.19354838685744, {'Accuracy': 74.19354838685744, 'Precision': 84.61538461505917, 'Specificity': 19.9999999996, 'Recall': 84.61538461505917, 'F1 Score': 84.61538461500918, 'Miss Rate': 0.15384615384556213, 'Accuracy Balance': 52.30769230732959, 'Mathew Correlation': 0.046153846153846025, 'Matrix': (22, 4, 4, 1)}]\n",
      " [11, 77.41935483845994, {'Accuracy': 77.41935483845994, 'Precision': 87.999999999648, 'Specificity': 39.9999999992, 'Recall': 84.61538461505917, 'F1 Score': 86.27450980353326, 'Miss Rate': 0.15384615384556213, 'Accuracy Balance': 62.307692307129585, 'Mathew Correlation': 0.22915675969261795, 'Matrix': (22, 3, 4, 2)}]\n",
      " [13, 80.64516129006243, {'Accuracy': 80.64516129006243, 'Precision': 85.71428571397959, 'Specificity': 19.9999999996, 'Recall': 92.30769230733729, 'F1 Score': 88.88888888850974, 'Miss Rate': 0.07692307692278107, 'Accuracy Balance': 56.15384615346865, 'Mathew Correlation': 0.15311180047018985, 'Matrix': (24, 4, 2, 1)}]\n",
      " [15, 80.64516129006243, {'Accuracy': 80.64516129006243, 'Precision': 85.71428571397959, 'Specificity': 19.9999999996, 'Recall': 92.30769230733729, 'F1 Score': 88.88888888850974, 'Miss Rate': 0.07692307692278107, 'Accuracy Balance': 56.15384615346865, 'Mathew Correlation': 0.15311180047018985, 'Matrix': (24, 4, 2, 1)}]\n",
      " [17, 83.87096774166494, {'Accuracy': 83.87096774166494, 'Precision': 88.88888888855968, 'Specificity': 39.9999999992, 'Recall': 92.30769230733729, 'F1 Score': 90.56603773545734, 'Miss Rate': 0.07692307692278107, 'Accuracy Balance': 66.15384615326865, 'Mathew Correlation': 0.35445877847928203, 'Matrix': (24, 3, 2, 2)}]\n",
      " [19, 77.41935483845994, {'Accuracy': 77.41935483845994, 'Precision': 85.1851851848697, 'Specificity': 19.9999999996, 'Recall': 88.46153846119823, 'F1 Score': 86.7924528298112, 'Miss Rate': 0.11538461538417161, 'Accuracy Balance': 54.23076923039912, 'Mathew Correlation': 0.0928344419826691, 'Matrix': (23, 4, 3, 1)}]\n",
      " [21, 77.41935483845994, {'Accuracy': 77.41935483845994, 'Precision': 85.1851851848697, 'Specificity': 19.9999999996, 'Recall': 88.46153846119823, 'F1 Score': 86.7924528298112, 'Miss Rate': 0.11538461538417161, 'Accuracy Balance': 54.23076923039912, 'Mathew Correlation': 0.0928344419826691, 'Matrix': (23, 4, 3, 1)}]\n",
      " [23, 83.87096774166494, {'Accuracy': 83.87096774166494, 'Precision': 88.88888888855968, 'Specificity': 39.9999999992, 'Recall': 92.30769230733729, 'F1 Score': 90.56603773545734, 'Miss Rate': 0.07692307692278107, 'Accuracy Balance': 66.15384615326865, 'Mathew Correlation': 0.35445877847928203, 'Matrix': (24, 3, 2, 2)}]\n",
      " [25, 83.87096774166494, {'Accuracy': 83.87096774166494, 'Precision': 88.88888888855968, 'Specificity': 39.9999999992, 'Recall': 92.30769230733729, 'F1 Score': 90.56603773545734, 'Miss Rate': 0.07692307692278107, 'Accuracy Balance': 66.15384615326865, 'Mathew Correlation': 0.35445877847928203, 'Matrix': (24, 3, 2, 2)}]\n",
      " [27, 80.64516129006243, {'Accuracy': 80.64516129006243, 'Precision': 85.71428571397959, 'Specificity': 19.9999999996, 'Recall': 92.30769230733729, 'F1 Score': 88.88888888850974, 'Miss Rate': 0.07692307692278107, 'Accuracy Balance': 56.15384615346865, 'Mathew Correlation': 0.15311180047018985, 'Matrix': (24, 4, 2, 1)}]\n",
      " [29, 80.64516129006243, {'Accuracy': 80.64516129006243, 'Precision': 85.71428571397959, 'Specificity': 19.9999999996, 'Recall': 92.30769230733729, 'F1 Score': 88.88888888850974, 'Miss Rate': 0.07692307692278107, 'Accuracy Balance': 56.15384615346865, 'Mathew Correlation': 0.15311180047018985, 'Matrix': (24, 4, 2, 1)}]\n",
      " [31, 83.87096774166494, {'Accuracy': 83.87096774166494, 'Precision': 86.20689655142688, 'Specificity': 19.9999999996, 'Recall': 96.15384615347634, 'F1 Score': 90.9090909087105, 'Miss Rate': 0.03846153846139053, 'Accuracy Balance': 58.076923076538165, 'Mathew Correlation': 0.24184305584505975, 'Matrix': (25, 4, 1, 1)}]\n",
      "\n",
      "<Model 7>\n",
      "Folding Index : [192, 223]\n",
      " [3, 51.61290322563996, {'Accuracy': 51.61290322563996, 'Precision': 54.166666666440975, 'Specificity': 21.428571428418365, 'Recall': 76.4705882348443, 'F1 Score': 63.41463414598359, 'Miss Rate': 0.23529411764567476, 'Accuracy Balance': 48.94957983163133, 'Mathew Correlation': -0.025005001500500144, 'Matrix': (13, 11, 4, 3)}]\n",
      " [5, 48.38709677403747, {'Accuracy': 48.38709677403747, 'Precision': 51.999999999792, 'Specificity': 14.285714285612244, 'Recall': 76.4705882348443, 'F1 Score': 61.90476190441895, 'Miss Rate': 0.23529411764567476, 'Accuracy Balance': 45.37815126022827, 'Mathew Correlation': -0.11643634728549172, 'Matrix': (13, 12, 4, 2)}]\n",
      " [7, 51.61290322563996, {'Accuracy': 51.61290322563996, 'Precision': 53.84615384594675, 'Specificity': 14.285714285612244, 'Recall': 82.35294117598617, 'F1 Score': 65.11627906941678, 'Miss Rate': 0.17647058823425607, 'Accuracy Balance': 48.31932773079921, 'Mathew Correlation': -0.04548098191088812, 'Matrix': (14, 12, 3, 2)}]\n",
      " [9, 51.61290322563996, {'Accuracy': 51.61290322563996, 'Precision': 53.84615384594675, 'Specificity': 14.285714285612244, 'Recall': 82.35294117598617, 'F1 Score': 65.11627906941678, 'Miss Rate': 0.17647058823425607, 'Accuracy Balance': 48.31932773079921, 'Mathew Correlation': -0.04548098191088812, 'Matrix': (14, 12, 3, 2)}]\n",
      " [11, 48.38709677403747, {'Accuracy': 48.38709677403747, 'Precision': 51.851851851659816, 'Specificity': 7.142857142806122, 'Recall': 82.35294117598617, 'F1 Score': 63.636363636026985, 'Miss Rate': 0.17647058823425607, 'Accuracy Balance': 44.74789915939615, 'Mathew Correlation': -0.1559335809510663, 'Matrix': (14, 13, 3, 1)}]\n",
      " [13, 48.38709677403747, {'Accuracy': 48.38709677403747, 'Precision': 51.851851851659816, 'Specificity': 7.142857142806122, 'Recall': 82.35294117598617, 'F1 Score': 63.636363636026985, 'Miss Rate': 0.17647058823425607, 'Accuracy Balance': 44.74789915939615, 'Mathew Correlation': -0.1559335809510663, 'Matrix': (14, 13, 3, 1)}]\n",
      " [15, 48.38709677403747, {'Accuracy': 48.38709677403747, 'Precision': 51.851851851659816, 'Specificity': 7.142857142806122, 'Recall': 82.35294117598617, 'F1 Score': 63.636363636026985, 'Miss Rate': 0.17647058823425607, 'Accuracy Balance': 44.74789915939615, 'Mathew Correlation': -0.1559335809510663, 'Matrix': (14, 13, 3, 1)}]\n",
      " [17, 48.38709677403747, {'Accuracy': 48.38709677403747, 'Precision': 51.851851851659816, 'Specificity': 7.142857142806122, 'Recall': 82.35294117598617, 'F1 Score': 63.636363636026985, 'Miss Rate': 0.17647058823425607, 'Accuracy Balance': 44.74789915939615, 'Mathew Correlation': -0.1559335809510663, 'Matrix': (14, 13, 3, 1)}]\n",
      " [19, 48.38709677403747, {'Accuracy': 48.38709677403747, 'Precision': 51.851851851659816, 'Specificity': 7.142857142806122, 'Recall': 82.35294117598617, 'F1 Score': 63.636363636026985, 'Miss Rate': 0.17647058823425607, 'Accuracy Balance': 44.74789915939615, 'Mathew Correlation': -0.1559335809510663, 'Matrix': (14, 13, 3, 1)}]\n",
      " [21, 48.38709677403747, {'Accuracy': 48.38709677403747, 'Precision': 51.851851851659816, 'Specificity': 7.142857142806122, 'Recall': 82.35294117598617, 'F1 Score': 63.636363636026985, 'Miss Rate': 0.17647058823425607, 'Accuracy Balance': 44.74789915939615, 'Mathew Correlation': -0.1559335809510663, 'Matrix': (14, 13, 3, 1)}]\n",
      " [23, 45.161290322434965, {'Accuracy': 45.161290322434965, 'Precision': 49.99999999982143, 'Specificity': 0.0, 'Recall': 82.35294117598617, 'F1 Score': 62.222222221898676, 'Miss Rate': 0.17647058823425607, 'Accuracy Balance': 41.17647058799309, 'Mathew Correlation': -0.29704426289300156, 'Matrix': (14, 14, 3, 0)}]\n",
      " [25, 45.161290322434965, {'Accuracy': 45.161290322434965, 'Precision': 49.99999999982143, 'Specificity': 0.0, 'Recall': 82.35294117598617, 'F1 Score': 62.222222221898676, 'Miss Rate': 0.17647058823425607, 'Accuracy Balance': 41.17647058799309, 'Mathew Correlation': -0.29704426289300156, 'Matrix': (14, 14, 3, 0)}]\n",
      " [27, 45.161290322434965, {'Accuracy': 45.161290322434965, 'Precision': 49.99999999982143, 'Specificity': 0.0, 'Recall': 82.35294117598617, 'F1 Score': 62.222222221898676, 'Miss Rate': 0.17647058823425607, 'Accuracy Balance': 41.17647058799309, 'Mathew Correlation': -0.29704426289300156, 'Matrix': (14, 14, 3, 0)}]\n",
      " [29, 45.161290322434965, {'Accuracy': 45.161290322434965, 'Precision': 49.99999999982143, 'Specificity': 0.0, 'Recall': 82.35294117598617, 'F1 Score': 62.222222221898676, 'Miss Rate': 0.17647058823425607, 'Accuracy Balance': 41.17647058799309, 'Mathew Correlation': -0.29704426289300156, 'Matrix': (14, 14, 3, 0)}]\n",
      " [31, 45.161290322434965, {'Accuracy': 45.161290322434965, 'Precision': 49.99999999982143, 'Specificity': 0.0, 'Recall': 82.35294117598617, 'F1 Score': 62.222222221898676, 'Miss Rate': 0.17647058823425607, 'Accuracy Balance': 41.17647058799309, 'Mathew Correlation': -0.29704426289300156, 'Matrix': (14, 14, 3, 0)}]\n",
      "\n",
      "<Model 8>\n",
      "Folding Index : [224, 255]\n",
      " [3, 67.74193548365245, {'Accuracy': 67.74193548365245, 'Precision': 75.99999999969602, 'Specificity': 24.9999999996875, 'Recall': 82.60869565181476, 'F1 Score': 79.16666666628691, 'Miss Rate': 0.17391304347750475, 'Accuracy Balance': 53.80434782575113, 'Mathew Correlation': 0.08427009716003829, 'Matrix': (19, 6, 4, 2)}]\n",
      " [5, 67.74193548365245, {'Accuracy': 67.74193548365245, 'Precision': 74.07407407379974, 'Specificity': 12.49999999984375, 'Recall': 86.95652173875237, 'F1 Score': 79.99999999963033, 'Miss Rate': 0.13043478260812855, 'Accuracy Balance': 49.72826086929806, 'Mathew Correlation': -0.0070938044229895535, 'Matrix': (20, 7, 3, 1)}]\n",
      " [7, 70.96774193525495, {'Accuracy': 70.96774193525495, 'Precision': 76.92307692278108, 'Specificity': 24.9999999996875, 'Recall': 86.95652173875237, 'F1 Score': 81.63265306084149, 'Miss Rate': 0.13043478260812855, 'Accuracy Balance': 55.97826086921994, 'Mathew Correlation': 0.14224666503076444, 'Matrix': (20, 6, 3, 2)}]\n",
      " [9, 74.19354838685744, {'Accuracy': 74.19354838685744, 'Precision': 77.77777777748972, 'Specificity': 24.9999999996875, 'Recall': 91.30434782568999, 'F1 Score': 83.99999999961435, 'Miss Rate': 0.08695652173875237, 'Accuracy Balance': 58.152173912688745, 'Mathew Correlation': 0.2128141326896866, 'Matrix': (21, 6, 2, 2)}]\n",
      " [11, 70.96774193525495, {'Accuracy': 70.96774193525495, 'Precision': 74.99999999973215, 'Specificity': 12.49999999984375, 'Recall': 91.30434782568999, 'F1 Score': 82.35294117609813, 'Miss Rate': 0.08695652173875237, 'Accuracy Balance': 51.90217391276687, 'Mathew Correlation': 0.05630532705768117, 'Matrix': (21, 7, 2, 1)}]\n",
      " [13, 74.19354838685744, {'Accuracy': 74.19354838685744, 'Precision': 77.77777777748972, 'Specificity': 24.9999999996875, 'Recall': 91.30434782568999, 'F1 Score': 83.99999999961435, 'Miss Rate': 0.08695652173875237, 'Accuracy Balance': 58.152173912688745, 'Mathew Correlation': 0.2128141326896866, 'Matrix': (21, 6, 2, 2)}]\n",
      " [15, 74.19354838685744, {'Accuracy': 74.19354838685744, 'Precision': 77.77777777748972, 'Specificity': 24.9999999996875, 'Recall': 91.30434782568999, 'F1 Score': 83.99999999961435, 'Miss Rate': 0.08695652173875237, 'Accuracy Balance': 58.152173912688745, 'Mathew Correlation': 0.2128141326896866, 'Matrix': (21, 6, 2, 2)}]\n",
      " [17, 74.19354838685744, {'Accuracy': 74.19354838685744, 'Precision': 77.77777777748972, 'Specificity': 24.9999999996875, 'Recall': 91.30434782568999, 'F1 Score': 83.99999999961435, 'Miss Rate': 0.08695652173875237, 'Accuracy Balance': 58.152173912688745, 'Mathew Correlation': 0.2128141326896866, 'Matrix': (21, 6, 2, 2)}]\n",
      " [19, 74.19354838685744, {'Accuracy': 74.19354838685744, 'Precision': 77.77777777748972, 'Specificity': 24.9999999996875, 'Recall': 91.30434782568999, 'F1 Score': 83.99999999961435, 'Miss Rate': 0.08695652173875237, 'Accuracy Balance': 58.152173912688745, 'Mathew Correlation': 0.2128141326896866, 'Matrix': (21, 6, 2, 2)}]\n",
      " [21, 74.19354838685744, {'Accuracy': 74.19354838685744, 'Precision': 77.77777777748972, 'Specificity': 24.9999999996875, 'Recall': 91.30434782568999, 'F1 Score': 83.99999999961435, 'Miss Rate': 0.08695652173875237, 'Accuracy Balance': 58.152173912688745, 'Mathew Correlation': 0.2128141326896866, 'Matrix': (21, 6, 2, 2)}]\n",
      " [23, 74.19354838685744, {'Accuracy': 74.19354838685744, 'Precision': 77.77777777748972, 'Specificity': 24.9999999996875, 'Recall': 91.30434782568999, 'F1 Score': 83.99999999961435, 'Miss Rate': 0.08695652173875237, 'Accuracy Balance': 58.152173912688745, 'Mathew Correlation': 0.2128141326896866, 'Matrix': (21, 6, 2, 2)}]\n",
      " [25, 74.19354838685744, {'Accuracy': 74.19354838685744, 'Precision': 77.77777777748972, 'Specificity': 24.9999999996875, 'Recall': 91.30434782568999, 'F1 Score': 83.99999999961435, 'Miss Rate': 0.08695652173875237, 'Accuracy Balance': 58.152173912688745, 'Mathew Correlation': 0.2128141326896866, 'Matrix': (21, 6, 2, 2)}]\n",
      " [27, 74.19354838685744, {'Accuracy': 74.19354838685744, 'Precision': 77.77777777748972, 'Specificity': 24.9999999996875, 'Recall': 91.30434782568999, 'F1 Score': 83.99999999961435, 'Miss Rate': 0.08695652173875237, 'Accuracy Balance': 58.152173912688745, 'Mathew Correlation': 0.2128141326896866, 'Matrix': (21, 6, 2, 2)}]\n",
      " [29, 74.19354838685744, {'Accuracy': 74.19354838685744, 'Precision': 77.77777777748972, 'Specificity': 24.9999999996875, 'Recall': 91.30434782568999, 'F1 Score': 83.99999999961435, 'Miss Rate': 0.08695652173875237, 'Accuracy Balance': 58.152173912688745, 'Mathew Correlation': 0.2128141326896866, 'Matrix': (21, 6, 2, 2)}]\n",
      " [31, 74.19354838685744, {'Accuracy': 74.19354838685744, 'Precision': 77.77777777748972, 'Specificity': 24.9999999996875, 'Recall': 91.30434782568999, 'F1 Score': 83.99999999961435, 'Miss Rate': 0.08695652173875237, 'Accuracy Balance': 58.152173912688745, 'Mathew Correlation': 0.2128141326896866, 'Matrix': (21, 6, 2, 2)}]\n",
      "\n",
      "<Model 9>\n",
      "Folding Index : [256, 287]\n",
      " [3, 74.19354838685744, {'Accuracy': 74.19354838685744, 'Precision': 76.92307692278108, 'Specificity': 33.33333333296296, 'Recall': 90.9090909086777, 'F1 Score': 83.33333333293648, 'Miss Rate': 0.09090909090867769, 'Accuracy Balance': 62.12121212082033, 'Mathew Correlation': 0.29918303680270575, 'Matrix': (20, 6, 2, 3)}]\n",
      " [5, 77.41935483845994, {'Accuracy': 77.41935483845994, 'Precision': 75.86206896525566, 'Specificity': 22.222222221975308, 'Recall': 99.99999999954547, 'F1 Score': 86.2745098035342, 'Miss Rate': 0.0, 'Accuracy Balance': 61.11111111076039, 'Mathew Correlation': 0.41058784136762466, 'Matrix': (22, 7, 0, 2)}]\n",
      " [7, 70.96774193525495, {'Accuracy': 70.96774193525495, 'Precision': 70.96774193525495, 'Specificity': 0.0, 'Recall': 99.99999999954547, 'F1 Score': 83.01886792416647, 'Miss Rate': 0.0, 'Accuracy Balance': 49.99999999977273, 'Mathew Correlation': 0.0, 'Matrix': (22, 9, 0, 0)}]\n",
      " [9, 70.96774193525495, {'Accuracy': 70.96774193525495, 'Precision': 70.96774193525495, 'Specificity': 0.0, 'Recall': 99.99999999954547, 'F1 Score': 83.01886792416647, 'Miss Rate': 0.0, 'Accuracy Balance': 49.99999999977273, 'Mathew Correlation': 0.0, 'Matrix': (22, 9, 0, 0)}]\n",
      " [11, 70.96774193525495, {'Accuracy': 70.96774193525495, 'Precision': 70.96774193525495, 'Specificity': 0.0, 'Recall': 99.99999999954547, 'F1 Score': 83.01886792416647, 'Miss Rate': 0.0, 'Accuracy Balance': 49.99999999977273, 'Mathew Correlation': 0.0, 'Matrix': (22, 9, 0, 0)}]\n",
      " [13, 74.19354838685744, {'Accuracy': 74.19354838685744, 'Precision': 73.33333333308889, 'Specificity': 11.111111110987654, 'Recall': 99.99999999954547, 'F1 Score': 84.61538461501036, 'Miss Rate': 0.0, 'Accuracy Balance': 55.55555555526656, 'Mathew Correlation': 0.2854496128592227, 'Matrix': (22, 8, 0, 1)}]\n",
      " [15, 74.19354838685744, {'Accuracy': 74.19354838685744, 'Precision': 73.33333333308889, 'Specificity': 11.111111110987654, 'Recall': 99.99999999954547, 'F1 Score': 84.61538461501036, 'Miss Rate': 0.0, 'Accuracy Balance': 55.55555555526656, 'Mathew Correlation': 0.2854496128592227, 'Matrix': (22, 8, 0, 1)}]\n",
      " [17, 74.19354838685744, {'Accuracy': 74.19354838685744, 'Precision': 73.33333333308889, 'Specificity': 11.111111110987654, 'Recall': 99.99999999954547, 'F1 Score': 84.61538461501036, 'Miss Rate': 0.0, 'Accuracy Balance': 55.55555555526656, 'Mathew Correlation': 0.2854496128592227, 'Matrix': (22, 8, 0, 1)}]\n",
      " [19, 74.19354838685744, {'Accuracy': 74.19354838685744, 'Precision': 73.33333333308889, 'Specificity': 11.111111110987654, 'Recall': 99.99999999954547, 'F1 Score': 84.61538461501036, 'Miss Rate': 0.0, 'Accuracy Balance': 55.55555555526656, 'Mathew Correlation': 0.2854496128592227, 'Matrix': (22, 8, 0, 1)}]\n",
      " [21, 74.19354838685744, {'Accuracy': 74.19354838685744, 'Precision': 73.33333333308889, 'Specificity': 11.111111110987654, 'Recall': 99.99999999954547, 'F1 Score': 84.61538461501036, 'Miss Rate': 0.0, 'Accuracy Balance': 55.55555555526656, 'Mathew Correlation': 0.2854496128592227, 'Matrix': (22, 8, 0, 1)}]\n",
      " [23, 74.19354838685744, {'Accuracy': 74.19354838685744, 'Precision': 73.33333333308889, 'Specificity': 11.111111110987654, 'Recall': 99.99999999954547, 'F1 Score': 84.61538461501036, 'Miss Rate': 0.0, 'Accuracy Balance': 55.55555555526656, 'Mathew Correlation': 0.2854496128592227, 'Matrix': (22, 8, 0, 1)}]\n",
      " [25, 74.19354838685744, {'Accuracy': 74.19354838685744, 'Precision': 73.33333333308889, 'Specificity': 11.111111110987654, 'Recall': 99.99999999954547, 'F1 Score': 84.61538461501036, 'Miss Rate': 0.0, 'Accuracy Balance': 55.55555555526656, 'Mathew Correlation': 0.2854496128592227, 'Matrix': (22, 8, 0, 1)}]\n",
      " [27, 74.19354838685744, {'Accuracy': 74.19354838685744, 'Precision': 73.33333333308889, 'Specificity': 11.111111110987654, 'Recall': 99.99999999954547, 'F1 Score': 84.61538461501036, 'Miss Rate': 0.0, 'Accuracy Balance': 55.55555555526656, 'Mathew Correlation': 0.2854496128592227, 'Matrix': (22, 8, 0, 1)}]\n",
      " [29, 74.19354838685744, {'Accuracy': 74.19354838685744, 'Precision': 73.33333333308889, 'Specificity': 11.111111110987654, 'Recall': 99.99999999954547, 'F1 Score': 84.61538461501036, 'Miss Rate': 0.0, 'Accuracy Balance': 55.55555555526656, 'Mathew Correlation': 0.2854496128592227, 'Matrix': (22, 8, 0, 1)}]\n",
      " [31, 74.19354838685744, {'Accuracy': 74.19354838685744, 'Precision': 73.33333333308889, 'Specificity': 11.111111110987654, 'Recall': 99.99999999954547, 'F1 Score': 84.61538461501036, 'Miss Rate': 0.0, 'Accuracy Balance': 55.55555555526656, 'Mathew Correlation': 0.2854496128592227, 'Matrix': (22, 8, 0, 1)}]\n"
     ]
    }
   ],
   "source": [
    "via = 'k_only' # k_only model\n",
    "if(via == 'model'):\n",
    "    model_index, model_k, model_grade = model_optimal(model_conclusion, split_index)\n",
    "elif(via == 'k_only'):\n",
    "    model_k, model_grade, model_index = k_optimal(model_conclusion, split_index) \n",
    "end_time = time.time()\n",
    "\n",
    "print(\"<<Showing model candidate>>\")\n",
    "for k in range(len(split_index)):\n",
    "    print(f'\\n<Model {k+1}>\\nFolding Index : {split_index[k]}')\n",
    "    for l in range(len(model_conclusion[k])):\n",
    "        print(f' {model_conclusion[k][l]}')"
   ]
  },
  {
   "cell_type": "markdown",
   "metadata": {},
   "source": [
    "Model Report"
   ]
  },
  {
   "cell_type": "code",
   "execution_count": 65,
   "metadata": {},
   "outputs": [
    {
     "name": "stdout",
     "output_type": "stream",
     "text": [
      "<Model configuration>\n",
      "Algorithm : KNN\n",
      "Distance Method : eu\n",
      "Best K Value : 11\n",
      "Scaling Method : std\n",
      "K-Fold Cross-Validation : 9 folds\n",
      "Model Optimizer : model\n",
      "Best Fold Index : [64, 95]\n",
      "Training Time : 31.048578023910522s\n",
      "Model Quality :\n",
      "<-> Accuracy Best : 90.32258064486993\n",
      "<-> Precision Best : 89.28571428539541\n",
      "<-> Specificity Best : 49.99999999916667\n",
      "<-> Recall Best : 99.9999999996\n",
      "<-> F1 Score Best : 94.3396226411036\n",
      "<-> Miss Rate Best : 0.0\n",
      "<-> Accuracy Balance Best : 74.99999999938333\n",
      "<-> Mathew Correlation Best : 0.6681531047810583\n",
      "<-> Confussion Matrix\n",
      "    25\t3\n",
      "    0\t3\n"
     ]
    }
   ],
   "source": [
    "model_report(knn_method, model_k, reScale_method, fold_total, end_time, start_time, model_grade, model_index, via)"
   ]
  },
  {
   "cell_type": "markdown",
   "metadata": {},
   "source": [
    "Run the prediction"
   ]
  },
  {
   "cell_type": "code",
   "execution_count": 66,
   "metadata": {},
   "outputs": [
    {
     "name": "stdout",
     "output_type": "stream",
     "text": [
      "Total dataset : 265\n"
     ]
    }
   ],
   "source": [
    "data = read_excel('traintest.xlsx', 'train')\n",
    "test_data = read_excel('traintest.xlsx', 'test')\n",
    "if(via=='k_only'):\n",
    "    print('Total dataset : ', end=\"\")\n",
    "    prediction = test_prediction(data, test_data, model_k, 'eu', False, 'predict', reScale_method, model_index ,via)\n",
    "elif(via=='model'):\n",
    "    print('Total dataset : ', end=\"\")\n",
    "    prediction = test_prediction(data, test_data, model_k, 'eu', False, 'predict', reScale_method, model_index ,via)"
   ]
  },
  {
   "cell_type": "markdown",
   "metadata": {},
   "source": [
    "Prediction Result"
   ]
  },
  {
   "cell_type": "code",
   "execution_count": 67,
   "metadata": {},
   "outputs": [
    {
     "data": {
      "text/html": [
       "<div>\n",
       "<style scoped>\n",
       "    .dataframe tbody tr th:only-of-type {\n",
       "        vertical-align: middle;\n",
       "    }\n",
       "\n",
       "    .dataframe tbody tr th {\n",
       "        vertical-align: top;\n",
       "    }\n",
       "\n",
       "    .dataframe thead th {\n",
       "        text-align: right;\n",
       "    }\n",
       "</style>\n",
       "<table border=\"1\" class=\"dataframe\">\n",
       "  <thead>\n",
       "    <tr style=\"text-align: right;\">\n",
       "      <th></th>\n",
       "      <th>id</th>\n",
       "      <th>x1</th>\n",
       "      <th>x2</th>\n",
       "      <th>x3</th>\n",
       "      <th>y</th>\n",
       "    </tr>\n",
       "  </thead>\n",
       "  <tbody>\n",
       "    <tr>\n",
       "      <th>0</th>\n",
       "      <td>297</td>\n",
       "      <td>43</td>\n",
       "      <td>59</td>\n",
       "      <td>2</td>\n",
       "      <td>1</td>\n",
       "    </tr>\n",
       "    <tr>\n",
       "      <th>1</th>\n",
       "      <td>298</td>\n",
       "      <td>67</td>\n",
       "      <td>66</td>\n",
       "      <td>0</td>\n",
       "      <td>1</td>\n",
       "    </tr>\n",
       "    <tr>\n",
       "      <th>2</th>\n",
       "      <td>299</td>\n",
       "      <td>58</td>\n",
       "      <td>60</td>\n",
       "      <td>3</td>\n",
       "      <td>0</td>\n",
       "    </tr>\n",
       "    <tr>\n",
       "      <th>3</th>\n",
       "      <td>300</td>\n",
       "      <td>49</td>\n",
       "      <td>63</td>\n",
       "      <td>3</td>\n",
       "      <td>0</td>\n",
       "    </tr>\n",
       "    <tr>\n",
       "      <th>4</th>\n",
       "      <td>301</td>\n",
       "      <td>45</td>\n",
       "      <td>60</td>\n",
       "      <td>0</td>\n",
       "      <td>1</td>\n",
       "    </tr>\n",
       "    <tr>\n",
       "      <th>5</th>\n",
       "      <td>302</td>\n",
       "      <td>54</td>\n",
       "      <td>58</td>\n",
       "      <td>1</td>\n",
       "      <td>1</td>\n",
       "    </tr>\n",
       "    <tr>\n",
       "      <th>6</th>\n",
       "      <td>303</td>\n",
       "      <td>56</td>\n",
       "      <td>66</td>\n",
       "      <td>3</td>\n",
       "      <td>0</td>\n",
       "    </tr>\n",
       "    <tr>\n",
       "      <th>7</th>\n",
       "      <td>304</td>\n",
       "      <td>42</td>\n",
       "      <td>69</td>\n",
       "      <td>1</td>\n",
       "      <td>1</td>\n",
       "    </tr>\n",
       "    <tr>\n",
       "      <th>8</th>\n",
       "      <td>305</td>\n",
       "      <td>50</td>\n",
       "      <td>59</td>\n",
       "      <td>2</td>\n",
       "      <td>1</td>\n",
       "    </tr>\n",
       "    <tr>\n",
       "      <th>9</th>\n",
       "      <td>306</td>\n",
       "      <td>59</td>\n",
       "      <td>60</td>\n",
       "      <td>0</td>\n",
       "      <td>1</td>\n",
       "    </tr>\n",
       "  </tbody>\n",
       "</table>\n",
       "</div>"
      ],
      "text/plain": [
       "    id  x1  x2  x3  y\n",
       "0  297  43  59   2  1\n",
       "1  298  67  66   0  1\n",
       "2  299  58  60   3  0\n",
       "3  300  49  63   3  0\n",
       "4  301  45  60   0  1\n",
       "5  302  54  58   1  1\n",
       "6  303  56  66   3  0\n",
       "7  304  42  69   1  1\n",
       "8  305  50  59   2  1\n",
       "9  306  59  60   0  1"
      ]
     },
     "execution_count": 67,
     "metadata": {},
     "output_type": "execute_result"
    }
   ],
   "source": [
    "test_data = read_excel('traintest.xlsx', 'test')\n",
    "prediction['x1'] = test_data['x1']\n",
    "prediction['x2'] = test_data['x2']\n",
    "prediction['x3'] = test_data['x3']\n",
    "prediction"
   ]
  },
  {
   "cell_type": "code",
   "execution_count": 68,
   "metadata": {},
   "outputs": [],
   "source": [
    "def output_xlsx(prediction):\n",
    "    book = load_workbook('traintest.xlsx')\n",
    "    writer = pd.ExcelWriter('traintest.xlsx')\n",
    "    writer.book = book\n",
    "    prediction.to_excel(writer, sheet_name= 'test_prediction')\n",
    "    writer.save()\n",
    "    writer.close()\n",
    "\n",
    "output_xlsx(prediction)"
   ]
  }
 ],
 "metadata": {
  "interpreter": {
   "hash": "31f2aee4e71d21fbe5cf8b01ff0e069b9275f58929596ceb00d14d90e3e16cd6"
  },
  "kernelspec": {
   "display_name": "Python 3.8.2 64-bit",
   "language": "python",
   "name": "python3"
  },
  "language_info": {
   "codemirror_mode": {
    "name": "ipython",
    "version": 3
   },
   "file_extension": ".py",
   "mimetype": "text/x-python",
   "name": "python",
   "nbconvert_exporter": "python",
   "pygments_lexer": "ipython3",
   "version": "3.8.2"
  },
  "orig_nbformat": 4
 },
 "nbformat": 4,
 "nbformat_minor": 2
}
